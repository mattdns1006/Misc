{
 "cells": [
  {
   "cell_type": "code",
   "execution_count": 1,
   "metadata": {
    "collapsed": true
   },
   "outputs": [],
   "source": [
    "import tensorflow as tf\n",
    "import numpy as np\n",
    "import cv2\n",
    "import matplotlib.pyplot as plt\n",
    "%matplotlib inline\n",
    "from pylab import rcParams\n",
    "rcParams['figure.figsize'] = 20, 6"
   ]
  },
  {
   "cell_type": "code",
   "execution_count": 90,
   "metadata": {
    "collapsed": false
   },
   "outputs": [
    {
     "name": "stdout",
     "output_type": "stream",
     "text": [
      "[[0 1 0]\n",
      " [0 1 0]\n",
      " [0 1 0]\n",
      " [0 0 1]\n",
      " [1 0 0]\n",
      " [0 1 0]\n",
      " [0 1 0]\n",
      " [0 1 0]\n",
      " [1 0 0]\n",
      " [1 0 0]]\n",
      "[ 0.33333333  0.16666667  1.        ]\n"
     ]
    }
   ],
   "source": [
    "'''\n",
    "Truth\n",
    "'''\n",
    "nClasses = 3\n",
    "pVec = np.array([0.3,0.6,0.1])\n",
    "y = np.random.multinomial(1,pVec,10)\n",
    "classWeights = 1.0/y.sum(0)\n",
    "print(y)\n",
    "print(classWeights)\n",
    "y = tf.constant(y,dtype=\"float64\")\n",
    "classWeights = tf.constant(classWeights,\"float64\")"
   ]
  },
  {
   "cell_type": "code",
   "execution_count": 91,
   "metadata": {
    "collapsed": false
   },
   "outputs": [
    {
     "name": "stdout",
     "output_type": "stream",
     "text": [
      "[[ 0.13  0.6   0.27]\n",
      " [ 0.19  0.56  0.25]\n",
      " [ 0.15  0.58  0.27]\n",
      " [ 0.21  0.54  0.25]\n",
      " [ 0.23  0.42  0.35]\n",
      " [ 0.18  0.55  0.27]\n",
      " [ 0.12  0.55  0.33]\n",
      " [ 0.24  0.45  0.31]\n",
      " [ 0.22  0.52  0.26]\n",
      " [ 0.15  0.59  0.26]]\n"
     ]
    }
   ],
   "source": [
    "'''\n",
    "Pred\n",
    "'''\n",
    "pVecPred = np.array([0.2,0.5,0.3])\n",
    "n = 100.0\n",
    "yPred = np.random.multinomial(n,pVecPred,10)/n\n",
    "print(yPred)\n",
    "yPred = tf.constant(yPred)\n",
    "ce = -tf.log(yPred)*y\n",
    "wce = ce*classWeights\n",
    "ace = tf.reduce_mean(tf.reduce_sum(ce,1))\n",
    "awce = tf.reduce_mean(tf.reduce_sum(wce,1))\n",
    "#ceL = tf.nn.softmax_cross_entropy_with_logits(tf.log(yPred),y)"
   ]
  },
  {
   "cell_type": "code",
   "execution_count": 92,
   "metadata": {
    "collapsed": false
   },
   "outputs": [
    {
     "name": "stdout",
     "output_type": "stream",
     "text": [
      "[ 0.33333333  0.16666667  1.        ]\n",
      "***********************************\n",
      "[[ 0.          0.51082562  0.        ]\n",
      " [ 0.          0.5798185   0.        ]\n",
      " [ 0.          0.54472718  0.        ]\n",
      " [ 0.          0.          1.38629436]\n",
      " [ 1.46967597  0.          0.        ]\n",
      " [ 0.          0.597837    0.        ]\n",
      " [ 0.          0.597837    0.        ]\n",
      " [ 0.          0.7985077   0.        ]\n",
      " [ 1.51412773  0.          0.        ]\n",
      " [ 1.89711998  0.          0.        ]]\n",
      "***********************************\n",
      "[[ 0.          0.0851376   0.        ]\n",
      " [ 0.          0.09663642  0.        ]\n",
      " [ 0.          0.09078786  0.        ]\n",
      " [ 0.          0.          1.38629436]\n",
      " [ 0.48989199  0.          0.        ]\n",
      " [ 0.          0.0996395   0.        ]\n",
      " [ 0.          0.0996395   0.        ]\n",
      " [ 0.          0.13308462  0.        ]\n",
      " [ 0.50470924  0.          0.        ]\n",
      " [ 0.63237333  0.          0.        ]]\n"
     ]
    }
   ],
   "source": [
    "with tf.Session() as sess:\n",
    "    loss,weightedLoss,cw = sess.run([ce,wce,classWeights])\n",
    "    print(cw)\n",
    "    print(\"*\"*35)\n",
    "    print(loss)\n",
    "    print(\"*\"*35)\n",
    "    print(weightedLoss)"
   ]
  }
 ],
 "metadata": {
  "kernelspec": {
   "display_name": "Python 2",
   "language": "python",
   "name": "python2"
  },
  "language_info": {
   "codemirror_mode": {
    "name": "ipython",
    "version": 2
   },
   "file_extension": ".py",
   "mimetype": "text/x-python",
   "name": "python",
   "nbconvert_exporter": "python",
   "pygments_lexer": "ipython2",
   "version": "2.7.6"
  }
 },
 "nbformat": 4,
 "nbformat_minor": 0
}
