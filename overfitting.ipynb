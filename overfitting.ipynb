{
 "cells": [
  {
   "cell_type": "markdown",
   "metadata": {},
   "source": [
    "# <center> Overfitting </center>"
   ]
  },
  {
   "cell_type": "markdown",
   "metadata": {},
   "source": [
    "# What is it?\n",
    "* Overfitting happens when a model learns the detail and noise in the training data to the extent that it negatively impacts the performance of the model on new data. This\n",
    "\n",
    "# What are the consequences?\n",
    "* The most obvious consequence of overfitting is poor performance on the validation dataset. \n",
    "* A function that is overfitted is likely to request more information about each item in the validation dataset than does the optimal function; gathering this additional unneeded data can be expensive or error-prone, especially if each individual piece of information must be gathered by human observation and manual data-entry.\n",
    "* A more complex, overfitted function is likely to be less portable than a simple one. "
   ]
  },
  {
   "cell_type": "code",
   "execution_count": 1,
   "metadata": {
    "collapsed": true
   },
   "outputs": [],
   "source": [
    "import seaborn as sns\n",
    "import matplotlib.pyplot as plt\n",
    "import numpy.random as rng\n",
    "import numpy as np\n",
    "plt.style.use('ggplot')\n",
    "save_path = \"/Users/matt/University/writeUps/Mres/images/method/overfit/\""
   ]
  },
  {
   "cell_type": "markdown",
   "metadata": {},
   "source": [
    "PARAMETERS "
   ]
  },
  {
   "cell_type": "code",
   "execution_count": 2,
   "metadata": {
    "collapsed": true
   },
   "outputs": [],
   "source": [
    "N = 50 # number of obs in train set\n",
    "FIG_SIZE = (15,10)\n",
    "MODEL_1_DEG = 3\n",
    "MODEL_2_DEG = 30\n",
    "MODEL_3_DEG = 6\n",
    "std = 0.3"
   ]
  },
  {
   "cell_type": "markdown",
   "metadata": {},
   "source": [
    "# Make a function to estimate (truth)"
   ]
  },
  {
   "cell_type": "code",
   "execution_count": 3,
   "metadata": {
    "collapsed": false
   },
   "outputs": [
    {
     "data": {
      "image/png": "[encoded data removed]",
      "text/plain": [
       "<matplotlib.figure.Figure at 0x11a453198>"
      ]
     },
     "metadata": {},
     "output_type": "display_data"
    }
   ],
   "source": [
    "x = np.linspace(0,10,N)\n",
    "f = lambda x: np.sin(x) + np.cos(0.3*x)\n",
    "f_x = f(x)\n",
    "plt.plot(x,f_x)\n",
    "plt.show()"
   ]
  },
  {
   "cell_type": "markdown",
   "metadata": {},
   "source": [
    "# Make observations from $f(x)$ with noise"
   ]
  },
  {
   "cell_type": "code",
   "execution_count": 4,
   "metadata": {
    "collapsed": false
   },
   "outputs": [
    {
     "ename": "NameError",
     "evalue": "name 'savepath' is not defined",
     "output_type": "error",
     "traceback": [
      "\u001b[0;31m---------------------------------------------------------------------------\u001b[0m",
      "\u001b[0;31mNameError\u001b[0m                                 Traceback (most recent call last)",
      "\u001b[0;32m<ipython-input-4-a4a877d245bf>\u001b[0m in \u001b[0;36m<module>\u001b[0;34m()\u001b[0m\n\u001b[1;32m      6\u001b[0m \u001b[0mplt\u001b[0m\u001b[0;34m.\u001b[0m\u001b[0mxlabel\u001b[0m\u001b[0;34m(\u001b[0m\u001b[0;34m\"x\"\u001b[0m\u001b[0;34m)\u001b[0m\u001b[0;34m;\u001b[0m\u001b[0mplt\u001b[0m\u001b[0;34m.\u001b[0m\u001b[0mylabel\u001b[0m\u001b[0;34m(\u001b[0m\u001b[0;34m\"y\"\u001b[0m\u001b[0;34m)\u001b[0m\u001b[0;34m\u001b[0m\u001b[0m\n\u001b[1;32m      7\u001b[0m \u001b[0mplt\u001b[0m\u001b[0;34m.\u001b[0m\u001b[0mlegend\u001b[0m\u001b[0;34m(\u001b[0m\u001b[0;34m)\u001b[0m\u001b[0;34m\u001b[0m\u001b[0m\n\u001b[0;32m----> 8\u001b[0;31m \u001b[0mplt\u001b[0m\u001b[0;34m.\u001b[0m\u001b[0msavefig\u001b[0m\u001b[0;34m(\u001b[0m\u001b[0msavepath\u001b[0m\u001b[0;34m+\u001b[0m\u001b[0;34m\"overfitting_true_function.png\"\u001b[0m\u001b[0;34m)\u001b[0m\u001b[0;34m\u001b[0m\u001b[0m\n\u001b[0m\u001b[1;32m      9\u001b[0m \u001b[0mplt\u001b[0m\u001b[0;34m.\u001b[0m\u001b[0mshow\u001b[0m\u001b[0;34m(\u001b[0m\u001b[0;34m)\u001b[0m\u001b[0;34m\u001b[0m\u001b[0m\n",
      "\u001b[0;31mNameError\u001b[0m: name 'savepath' is not defined"
     ]
    }
   ],
   "source": [
    "std = 0.3\n",
    "f_observed = f(x) + rng.normal(0,std,N)\n",
    "plt.figure(figsize=FIG_SIZE)\n",
    "plt.plot(x,f_x,label=\"f(x)\",c='#000000',linestyle='dashed')\n",
    "plt.scatter(x,f_observed,c=\"black\"); \n",
    "plt.xlabel(\"x\");plt.ylabel(\"y\")\n",
    "plt.legend()\n",
    "plt.savefig(savepath+\"overfitting_true_function.png\")\n",
    "plt.show()\n"
   ]
  },
  {
   "cell_type": "markdown",
   "metadata": {},
   "source": [
    "# Try to estimate function with polynomial"
   ]
  },
  {
   "cell_type": "markdown",
   "metadata": {},
   "source": [
    "### Make poly class"
   ]
  },
  {
   "cell_type": "code",
   "execution_count": null,
   "metadata": {
    "collapsed": true
   },
   "outputs": [],
   "source": [
    "class Poly_fn():\n",
    "    def __init__(self,degree):\n",
    "        self.degree = degree\n",
    "    def fit(self,x,y):\n",
    "        self.model = np.poly1d(np.polyfit(x,y,self.degree))\n",
    "    def predict(self,x):\n",
    "        return self.model(x)"
   ]
  },
  {
   "cell_type": "markdown",
   "metadata": {},
   "source": [
    "### Fit polys and predict "
   ]
  },
  {
   "cell_type": "code",
   "execution_count": null,
   "metadata": {
    "collapsed": false
   },
   "outputs": [],
   "source": [
    "model1 = Poly_fn(MODEL_1_DEG)\n",
    "model2 = Poly_fn(MODEL_2_DEG)\n",
    "model3 = Poly_fn(MODEL_3_DEG)\n",
    "model1.fit(x,f_observed)\n",
    "model2.fit(x,f_observed)\n",
    "model3.fit(x,f_observed)\n",
    "\n",
    "x_fit = np.linspace(0,10,1000)\n",
    "model1_predicted = model1.predict(x_fit)\n",
    "model2_predicted = model2.predict(x_fit)\n",
    "model3_predicted = model3.predict(x_fit)\n",
    "\n",
    "plt.figure(figsize=FIG_SIZE)\n",
    "plt.plot(x_fit,model1_predicted,label=\"Model 1\",c='#6600ff'); \n",
    "plt.plot(x_fit,model2_predicted,label=\"Model 2\",c='#cc0099'); \n",
    "plt.plot(x_fit,model3_predicted,label=\"Model 3\",c='#0099ff'); \n",
    "#plt.plot(x,f_x,label=\"f(x)\",c='#000000',linestyle='dashed'); \n",
    "plt.scatter(x,f_observed,c=\"black\",alpha=0.5); \n",
    "plt.xlabel(\"x\");plt.ylabel(\"y\")\n",
    "plt.legend()\n",
    "plt.savefig(save_path+\"overfitting_train.png\")\n",
    "plt.show()"
   ]
  },
  {
   "cell_type": "markdown",
   "metadata": {},
   "source": [
    "# Make loss function $\\Sigma_i \\frac{(y_i^{true} - y_i^{pred})^2}{n}$"
   ]
  },
  {
   "cell_type": "code",
   "execution_count": null,
   "metadata": {
    "collapsed": true
   },
   "outputs": [],
   "source": [
    "def mse(y_true,y_pred):\n",
    "    return np.mean(np.square(y_true - y_pred))"
   ]
  },
  {
   "cell_type": "markdown",
   "metadata": {},
   "source": [
    "# Train errors"
   ]
  },
  {
   "cell_type": "code",
   "execution_count": null,
   "metadata": {
    "collapsed": false
   },
   "outputs": [],
   "source": [
    "train_errors = [mse(f_observed,fitted) for fitted in [model1.predict(x),model2.predict(x),model3.predict(x)]]\n",
    "print(\"Train errors\", train_errors)"
   ]
  },
  {
   "cell_type": "markdown",
   "metadata": {},
   "source": [
    "# Make a test set"
   ]
  },
  {
   "cell_type": "code",
   "execution_count": null,
   "metadata": {
    "collapsed": false,
    "scrolled": false
   },
   "outputs": [],
   "source": [
    "N_TEST = 500\n",
    "x_test = np.linspace(0,10,N_TEST) # test set is just more observations\n",
    "f_x_test = f(x_test) # ideal function\n",
    "f_observed_test = f_x_test + rng.normal(0,std,N_TEST)\n",
    "\n",
    "model1_predicted_te = model1.predict(x_test)\n",
    "model2_predicted_te = model2.predict(x_test)\n",
    "model3_predicted_te = model3.predict(x_test)\n",
    "\n",
    "test_errors = [mse(f_observed_test,fitted) for fitted in [model1_predicted_te,model2_predicted_te,model3_predicted_te]]\n",
    "print(test_errors)\n",
    "\n",
    "plt.figure(figsize=FIG_SIZE)\n",
    "plt.plot(x_test,model1_predicted_te,label=\"Model 1\",c='#6600ff'); \n",
    "plt.plot(x_test,model2_predicted_te,label=\"Model 2\",c='#cc0099'); \n",
    "plt.plot(x_test,model3_predicted_te,label=\"Model 3\",c='#0099ff'); \n",
    "#plt.plot(x_test,f_x_test,label=\"f(x)\",c='#000000',linestyle='dashed'); \n",
    "plt.scatter(x_test,f_observed_test,c=\"black\",alpha=0.2);\n",
    "plt.xlabel(\"x\");plt.ylabel(\"y\")\n",
    "plt.legend()\n",
    "plt.savefig(save_path+\"overfitting_test.png\")\n",
    "plt.show()"
   ]
  }
 ],
 "metadata": {
  "anaconda-cloud": {},
  "kernelspec": {
   "display_name": "Python [conda env:anaconda]",
   "language": "python",
   "name": "conda-env-anaconda-py"
  },
  "language_info": {
   "codemirror_mode": {
    "name": "ipython",
    "version": 3
   },
   "file_extension": ".py",
   "mimetype": "text/x-python",
   "name": "python",
   "nbconvert_exporter": "python",
   "pygments_lexer": "ipython3",
   "version": "3.5.2"
  }
 },
 "nbformat": 4,
 "nbformat_minor": 2
}
