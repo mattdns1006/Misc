{
 "cells": [
  {
   "cell_type": "code",
   "execution_count": 1,
   "metadata": {
    "collapsed": false
   },
   "outputs": [],
   "source": [
    "import tensorflow as tf\n",
    "import numpy as np\n",
    "from importlib.machinery import SourceFileLoader\n",
    "tfFns = SourceFileLoader(\"tfFns.py\", \"/Users/matt/misc/python/tfFns.py\").load_module()"
   ]
  },
  {
   "cell_type": "code",
   "execution_count": 2,
   "metadata": {
    "collapsed": false
   },
   "outputs": [
    {
     "name": "stdout",
     "output_type": "stream",
     "text": [
      "Extracting MNIST_data/train-images-idx3-ubyte.gz\n",
      "Extracting MNIST_data/train-labels-idx1-ubyte.gz\n",
      "Extracting MNIST_data/t10k-images-idx3-ubyte.gz\n",
      "Extracting MNIST_data/t10k-labels-idx1-ubyte.gz\n"
     ]
    }
   ],
   "source": [
    "from tensorflow.examples.tutorials.mnist import input_data\n",
    "mnist = input_data.read_data_sets(\"MNIST_data/\", one_hot=True)"
   ]
  },
  {
   "cell_type": "code",
   "execution_count": 31,
   "metadata": {
    "collapsed": false
   },
   "outputs": [],
   "source": [
    "batchSize = 10\n",
    "x = tf.placeholder(tf.float32, shape=[None, 784])\n",
    "\n",
    "#Encoding layers\n",
    "x_image = tf.reshape(x, [batchSize,28,28,1])\n",
    "\n",
    "feats = 8\n",
    "W_conv1 = tfFns.weight_variable([3, 3, 1, 8])\n",
    "b_conv1 = tfFns.bias_variable([8])\n",
    "\n",
    "W_conv2 = tfFns.weight_variable([3, 3, feats, feats])\n",
    "b_conv2 = tfFns.bias_variable([feats])\n",
    "\n",
    "W_conv3 = tfFns.weight_variable([3, 3, feats, feats])\n",
    "b_conv3 = tfFns.bias_variable([feats])\n",
    "\n",
    "W_conv4 = tfFns.weight_variable([3, 3, feats, feats])\n",
    "b_conv4 = tfFns.bias_variable([feats])\n",
    "\n",
    "#Decoding layers\n",
    "outputShape5 = [batchSize,8,8,feats]\n",
    "W_deconv1 = tfFns.weight_variable([3, 3, feats, feats])\n",
    "b_deconv1 = tfFns.bias_variable([feats])\n",
    "\n",
    "outputShape6 = [batchSize,16,16,feats]\n",
    "W_deconv2 = tfFns.weight_variable([3, 3, feats, feats])\n",
    "b_deconv2 = tfFns.bias_variable([feats])\n",
    "\n",
    "outputShape7 = [batchSize,28,28,1]\n",
    "W_deconv3 = tfFns.weight_variable([3, 3, 1, feats])\n",
    "b_deconv3 = tfFns.bias_variable([1])\n"
   ]
  },
  {
   "cell_type": "code",
   "execution_count": 32,
   "metadata": {
    "collapsed": false
   },
   "outputs": [],
   "source": [
    "h_conv1 = tf.nn.relu(tfFns.conv2d(x_image, W_conv1) + b_conv1)\n",
    "h_pool1 = tfFns.max_pool_2x2(h_conv1)\n",
    "\n",
    "h_conv2 = tf.nn.relu(tfFns.conv2d(h_pool1, W_conv2) + b_conv2)\n",
    "h_pool2 = tfFns.max_pool_2x2(h_conv2)\n",
    "\n",
    "h_conv3 = tf.nn.relu(tfFns.conv2d(h_pool2, W_conv3) + b_conv3)\n",
    "h_pool3 = tfFns.max_pool_2x2(h_conv3)\n",
    "\n",
    "h_conv4 = tf.nn.relu(tfFns.conv2d(h_pool3, W_conv4) + b_conv4)"
   ]
  },
  {
   "cell_type": "code",
   "execution_count": 1,
   "metadata": {
    "collapsed": false
   },
   "outputs": [
    {
     "ename": "NameError",
     "evalue": "name 'tf' is not defined",
     "output_type": "error",
     "traceback": [
      "\u001b[0;31m---------------------------------------------------------------------------\u001b[0m",
      "\u001b[0;31mNameError\u001b[0m                                 Traceback (most recent call last)",
      "\u001b[0;32m<ipython-input-1-662a922dacea>\u001b[0m in \u001b[0;36m<module>\u001b[0;34m()\u001b[0m\n\u001b[0;32m----> 1\u001b[0;31m \u001b[0mh_deconv1\u001b[0m \u001b[0;34m=\u001b[0m \u001b[0mtf\u001b[0m\u001b[0;34m.\u001b[0m\u001b[0mnn\u001b[0m\u001b[0;34m.\u001b[0m\u001b[0mrelu\u001b[0m\u001b[0;34m(\u001b[0m\u001b[0mtfFns\u001b[0m\u001b[0;34m.\u001b[0m\u001b[0mdeconv2d\u001b[0m\u001b[0;34m(\u001b[0m\u001b[0mh_conv4\u001b[0m\u001b[0;34m,\u001b[0m\u001b[0mW_deconv1\u001b[0m\u001b[0;34m,\u001b[0m\u001b[0moutput_shape\u001b[0m\u001b[0;34m=\u001b[0m\u001b[0moutputShape5\u001b[0m\u001b[0;34m)\u001b[0m \u001b[0;34m+\u001b[0m \u001b[0mb_deconv1\u001b[0m\u001b[0;34m)\u001b[0m\u001b[0;34m\u001b[0m\u001b[0m\n\u001b[0m\u001b[1;32m      2\u001b[0m \u001b[0;34m\u001b[0m\u001b[0m\n\u001b[1;32m      3\u001b[0m \u001b[0mh_deconv2\u001b[0m \u001b[0;34m=\u001b[0m \u001b[0mtf\u001b[0m\u001b[0;34m.\u001b[0m\u001b[0mnn\u001b[0m\u001b[0;34m.\u001b[0m\u001b[0mrelu\u001b[0m\u001b[0;34m(\u001b[0m\u001b[0mtfFns\u001b[0m\u001b[0;34m.\u001b[0m\u001b[0mdeconv2d\u001b[0m\u001b[0;34m(\u001b[0m\u001b[0mh_deconv1\u001b[0m\u001b[0;34m,\u001b[0m\u001b[0mW_deconv2\u001b[0m\u001b[0;34m,\u001b[0m\u001b[0moutput_shape\u001b[0m\u001b[0;34m=\u001b[0m\u001b[0moutputShape6\u001b[0m\u001b[0;34m)\u001b[0m \u001b[0;34m+\u001b[0m \u001b[0mb_deconv2\u001b[0m\u001b[0;34m)\u001b[0m\u001b[0;34m\u001b[0m\u001b[0m\n\u001b[1;32m      4\u001b[0m \u001b[0;34m\u001b[0m\u001b[0m\n\u001b[1;32m      5\u001b[0m \u001b[0myPred\u001b[0m \u001b[0;34m=\u001b[0m \u001b[0mtf\u001b[0m\u001b[0;34m.\u001b[0m\u001b[0mnn\u001b[0m\u001b[0;34m.\u001b[0m\u001b[0msigmoid\u001b[0m\u001b[0;34m(\u001b[0m\u001b[0mtfFns\u001b[0m\u001b[0;34m.\u001b[0m\u001b[0mdeconv2d\u001b[0m\u001b[0;34m(\u001b[0m\u001b[0mh_deconv2\u001b[0m\u001b[0;34m,\u001b[0m\u001b[0mW_deconv3\u001b[0m\u001b[0;34m,\u001b[0m\u001b[0moutput_shape\u001b[0m\u001b[0;34m=\u001b[0m\u001b[0moutputShape7\u001b[0m\u001b[0;34m)\u001b[0m \u001b[0;34m+\u001b[0m \u001b[0mb_deconv3\u001b[0m\u001b[0;34m)\u001b[0m\u001b[0;34m\u001b[0m\u001b[0m\n",
      "\u001b[0;31mNameError\u001b[0m: name 'tf' is not defined"
     ]
    }
   ],
   "source": [
    "h_deconv1 = tf.nn.relu(tfFns.deconv2d(h_conv4,W_deconv1,output_shape=outputShape5) + b_deconv1)\n",
    "\n",
    "h_deconv2 = tf.nn.relu(tfFns.deconv2d(h_deconv1,W_deconv2,output_shape=outputShape6) + b_deconv2)\n",
    "\n",
    "yPred = tf.nn.sigmoid(tfFns.deconv2d(h_deconv2,W_deconv3,output_shape=outputShape7) + b_deconv3)\n",
    "\n",
    "mse = tf.reduce_sum(tf.square(yPred - x_image))\n",
    "#train_step = tf.train.AdamOptimizer(0.01).minimize(mse)"
   ]
  },
  {
   "cell_type": "code",
   "execution_count": null,
   "metadata": {
    "collapsed": false
   },
   "outputs": [],
   "source": [
    "with tf.Session() as sess:\n",
    "    sess.run(tf.initialize_all_variables())\n",
    "    for i in range(1000):\n",
    "        batch = mnist.train.next_batch(batchSize)\n",
    "        _, h_conv1 = sess.run(h_conv1,feed_dict={x: batch[0]})"
   ]
  }
 ],
 "metadata": {
  "kernelspec": {
   "display_name": "Python 3",
   "language": "python",
   "name": "python3"
  },
  "language_info": {
   "codemirror_mode": {
    "name": "ipython",
    "version": 3
   },
   "file_extension": ".py",
   "mimetype": "text/x-python",
   "name": "python",
   "nbconvert_exporter": "python",
   "pygments_lexer": "ipython3",
   "version": "3.5.2"
  }
 },
 "nbformat": 4,
 "nbformat_minor": 1
}
